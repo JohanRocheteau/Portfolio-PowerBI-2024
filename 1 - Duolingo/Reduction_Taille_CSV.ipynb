{
 "cells": [
  {
   "cell_type": "code",
   "execution_count": 2,
   "id": "ac6b2617-2aeb-46ad-903a-5c89875baef0",
   "metadata": {},
   "outputs": [],
   "source": [
    "import pandas as pd\n",
    "\n",
    "# Charger tout le fichier\n",
    "df = pd.read_csv(\"learning_traces.13m.csv\")\n",
    "\n",
    "# Prendre un échantillon aléatoire de 250 000 lignes\n",
    "sample_df = df.sample(n=250000, random_state=42)\n",
    "\n",
    "# Sauvegarder\n",
    "sample_df.to_csv(\"Duolingo_sample.csv\", index=False)"
   ]
  }
 ],
 "metadata": {
  "kernelspec": {
   "display_name": "Python 3 (ipykernel)",
   "language": "python",
   "name": "python3"
  },
  "language_info": {
   "codemirror_mode": {
    "name": "ipython",
    "version": 3
   },
   "file_extension": ".py",
   "mimetype": "text/x-python",
   "name": "python",
   "nbconvert_exporter": "python",
   "pygments_lexer": "ipython3",
   "version": "3.13.7"
  }
 },
 "nbformat": 4,
 "nbformat_minor": 5
}
